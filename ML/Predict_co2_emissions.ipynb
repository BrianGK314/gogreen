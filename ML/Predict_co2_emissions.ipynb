{
  "cells": [
    {
      "cell_type": "code",
      "execution_count": 1,
      "metadata": {
        "colab": {
          "base_uri": "https://localhost:8080/"
        },
        "id": "9EIT90-5f5o4",
        "outputId": "d12fac51-449a-45cc-dd22-85fa653b6bce"
      },
      "outputs": [
        {
          "name": "stdout",
          "output_type": "stream",
          "text": [
            "Requirement already satisfied: pandas in /usr/local/lib/python3.10/dist-packages (1.5.3)\n",
            "Collecting pandas\n",
            "  Downloading pandas-2.1.1-cp310-cp310-manylinux_2_17_x86_64.manylinux2014_x86_64.whl (12.3 MB)\n",
            "\u001b[2K     \u001b[90m━━━━━━━━━━━━━━━━━━━━━━━━━━━━━━━━━━━━━━━━\u001b[0m \u001b[32m12.3/12.3 MB\u001b[0m \u001b[31m82.5 MB/s\u001b[0m eta \u001b[36m0:00:00\u001b[0m\n",
            "\u001b[?25hRequirement already satisfied: numpy>=1.22.4 in /usr/local/lib/python3.10/dist-packages (from pandas) (1.23.5)\n",
            "Requirement already satisfied: python-dateutil>=2.8.2 in /usr/local/lib/python3.10/dist-packages (from pandas) (2.8.2)\n",
            "Requirement already satisfied: pytz>=2020.1 in /usr/local/lib/python3.10/dist-packages (from pandas) (2023.3.post1)\n",
            "Collecting tzdata>=2022.1 (from pandas)\n",
            "  Downloading tzdata-2023.3-py2.py3-none-any.whl (341 kB)\n",
            "\u001b[2K     \u001b[90m━━━━━━━━━━━━━━━━━━━━━━━━━━━━━━━━━━━━━━━━\u001b[0m \u001b[32m341.8/341.8 kB\u001b[0m \u001b[31m23.1 MB/s\u001b[0m eta \u001b[36m0:00:00\u001b[0m\n",
            "\u001b[?25hRequirement already satisfied: six>=1.5 in /usr/local/lib/python3.10/dist-packages (from python-dateutil>=2.8.2->pandas) (1.16.0)\n",
            "Installing collected packages: tzdata, pandas\n",
            "  Attempting uninstall: pandas\n",
            "    Found existing installation: pandas 1.5.3\n",
            "    Uninstalling pandas-1.5.3:\n",
            "      Successfully uninstalled pandas-1.5.3\n",
            "\u001b[31mERROR: pip's dependency resolver does not currently take into account all the packages that are installed. This behaviour is the source of the following dependency conflicts.\n",
            "lida 0.0.10 requires fastapi, which is not installed.\n",
            "lida 0.0.10 requires kaleido, which is not installed.\n",
            "lida 0.0.10 requires python-multipart, which is not installed.\n",
            "lida 0.0.10 requires uvicorn, which is not installed.\n",
            "google-colab 1.0.0 requires pandas==1.5.3, but you have pandas 2.1.1 which is incompatible.\u001b[0m\u001b[31m\n",
            "\u001b[0mSuccessfully installed pandas-2.1.1 tzdata-2023.3\n"
          ]
        }
      ],
      "source": [
        "# IBM Watson Machine Learning is used to deploy LSTM model towards end of notebook\n",
        "\n",
        "!pip install --upgrade pandas"
      ]
    },
    {
      "cell_type": "code",
      "execution_count": 2,
      "metadata": {
        "id": "txf9eY6wkrHz"
      },
      "outputs": [],
      "source": [
        "#import libraries\n",
        "import math\n",
        "import pandas as pd\n",
        "import numpy as np\n",
        "import tensorflow\n",
        "from sklearn.preprocessing import MinMaxScaler\n",
        "from keras.layers import LSTM,Dense\n",
        "from keras.models import Sequential\n",
        "import matplotlib.pyplot as plt"
      ]
    },
    {
      "cell_type": "code",
      "execution_count": 3,
      "metadata": {
        "id": "lsvwW-A44pqg"
      },
      "outputs": [],
      "source": [
        "df_emission= pd.DataFrame(pd.read_csv(\"/content/daily emissions.xlsx\")).set_index(\"Date\")"
      ]
    },
    {
      "cell_type": "code",
      "execution_count": 4,
      "metadata": {
        "colab": {
          "base_uri": "https://localhost:8080/",
          "height": 238
        },
        "id": "Oka6Jhhg4u0A",
        "outputId": "c8824892-9f51-4a83-da1e-072764541278"
      },
      "outputs": [
        {
          "data": {
            "text/html": [
              "\n",
              "  <div id=\"df-fc7f62b7-d850-48b4-a186-926281994e6a\" class=\"colab-df-container\">\n",
              "    <div>\n",
              "<style scoped>\n",
              "    .dataframe tbody tr th:only-of-type {\n",
              "        vertical-align: middle;\n",
              "    }\n",
              "\n",
              "    .dataframe tbody tr th {\n",
              "        vertical-align: top;\n",
              "    }\n",
              "\n",
              "    .dataframe thead th {\n",
              "        text-align: right;\n",
              "    }\n",
              "</style>\n",
              "<table border=\"1\" class=\"dataframe\">\n",
              "  <thead>\n",
              "    <tr style=\"text-align: right;\">\n",
              "      <th></th>\n",
              "      <th>China</th>\n",
              "    </tr>\n",
              "    <tr>\n",
              "      <th>Date</th>\n",
              "      <th></th>\n",
              "    </tr>\n",
              "  </thead>\n",
              "  <tbody>\n",
              "    <tr>\n",
              "      <th>2017-01-03</th>\n",
              "      <td>53.040001</td>\n",
              "    </tr>\n",
              "    <tr>\n",
              "      <th>2017-01-04</th>\n",
              "      <td>53.720001</td>\n",
              "    </tr>\n",
              "    <tr>\n",
              "      <th>2017-01-05</th>\n",
              "      <td>53.689999</td>\n",
              "    </tr>\n",
              "    <tr>\n",
              "      <th>2017-01-06</th>\n",
              "      <td>54.490002</td>\n",
              "    </tr>\n",
              "    <tr>\n",
              "      <th>2017-01-09</th>\n",
              "      <td>54.180000</td>\n",
              "    </tr>\n",
              "  </tbody>\n",
              "</table>\n",
              "</div>\n",
              "    <div class=\"colab-df-buttons\">\n",
              "\n",
              "  <div class=\"colab-df-container\">\n",
              "    <button class=\"colab-df-convert\" onclick=\"convertToInteractive('df-fc7f62b7-d850-48b4-a186-926281994e6a')\"\n",
              "            title=\"Convert this dataframe to an interactive table.\"\n",
              "            style=\"display:none;\">\n",
              "\n",
              "  <svg xmlns=\"http://www.w3.org/2000/svg\" height=\"24px\" viewBox=\"0 -960 960 960\">\n",
              "    <path d=\"M120-120v-720h720v720H120Zm60-500h600v-160H180v160Zm220 220h160v-160H400v160Zm0 220h160v-160H400v160ZM180-400h160v-160H180v160Zm440 0h160v-160H620v160ZM180-180h160v-160H180v160Zm440 0h160v-160H620v160Z\"/>\n",
              "  </svg>\n",
              "    </button>\n",
              "\n",
              "  <style>\n",
              "    .colab-df-container {\n",
              "      display:flex;\n",
              "      gap: 12px;\n",
              "    }\n",
              "\n",
              "    .colab-df-convert {\n",
              "      background-color: #E8F0FE;\n",
              "      border: none;\n",
              "      border-radius: 50%;\n",
              "      cursor: pointer;\n",
              "      display: none;\n",
              "      fill: #1967D2;\n",
              "      height: 32px;\n",
              "      padding: 0 0 0 0;\n",
              "      width: 32px;\n",
              "    }\n",
              "\n",
              "    .colab-df-convert:hover {\n",
              "      background-color: #E2EBFA;\n",
              "      box-shadow: 0px 1px 2px rgba(60, 64, 67, 0.3), 0px 1px 3px 1px rgba(60, 64, 67, 0.15);\n",
              "      fill: #174EA6;\n",
              "    }\n",
              "\n",
              "    .colab-df-buttons div {\n",
              "      margin-bottom: 4px;\n",
              "    }\n",
              "\n",
              "    [theme=dark] .colab-df-convert {\n",
              "      background-color: #3B4455;\n",
              "      fill: #D2E3FC;\n",
              "    }\n",
              "\n",
              "    [theme=dark] .colab-df-convert:hover {\n",
              "      background-color: #434B5C;\n",
              "      box-shadow: 0px 1px 3px 1px rgba(0, 0, 0, 0.15);\n",
              "      filter: drop-shadow(0px 1px 2px rgba(0, 0, 0, 0.3));\n",
              "      fill: #FFFFFF;\n",
              "    }\n",
              "  </style>\n",
              "\n",
              "    <script>\n",
              "      const buttonEl =\n",
              "        document.querySelector('#df-fc7f62b7-d850-48b4-a186-926281994e6a button.colab-df-convert');\n",
              "      buttonEl.style.display =\n",
              "        google.colab.kernel.accessAllowed ? 'block' : 'none';\n",
              "\n",
              "      async function convertToInteractive(key) {\n",
              "        const element = document.querySelector('#df-fc7f62b7-d850-48b4-a186-926281994e6a');\n",
              "        const dataTable =\n",
              "          await google.colab.kernel.invokeFunction('convertToInteractive',\n",
              "                                                    [key], {});\n",
              "        if (!dataTable) return;\n",
              "\n",
              "        const docLinkHtml = 'Like what you see? Visit the ' +\n",
              "          '<a target=\"_blank\" href=https://colab.research.google.com/notebooks/data_table.ipynb>data table notebook</a>'\n",
              "          + ' to learn more about interactive tables.';\n",
              "        element.innerHTML = '';\n",
              "        dataTable['output_type'] = 'display_data';\n",
              "        await google.colab.output.renderOutput(dataTable, element);\n",
              "        const docLink = document.createElement('div');\n",
              "        docLink.innerHTML = docLinkHtml;\n",
              "        element.appendChild(docLink);\n",
              "      }\n",
              "    </script>\n",
              "  </div>\n",
              "\n",
              "\n",
              "<div id=\"df-b57cdfcc-2d50-4e06-95a9-61f9ac362e23\">\n",
              "  <button class=\"colab-df-quickchart\" onclick=\"quickchart('df-b57cdfcc-2d50-4e06-95a9-61f9ac362e23')\"\n",
              "            title=\"Suggest charts.\"\n",
              "            style=\"display:none;\">\n",
              "\n",
              "<svg xmlns=\"http://www.w3.org/2000/svg\" height=\"24px\"viewBox=\"0 0 24 24\"\n",
              "     width=\"24px\">\n",
              "    <g>\n",
              "        <path d=\"M19 3H5c-1.1 0-2 .9-2 2v14c0 1.1.9 2 2 2h14c1.1 0 2-.9 2-2V5c0-1.1-.9-2-2-2zM9 17H7v-7h2v7zm4 0h-2V7h2v10zm4 0h-2v-4h2v4z\"/>\n",
              "    </g>\n",
              "</svg>\n",
              "  </button>\n",
              "\n",
              "<style>\n",
              "  .colab-df-quickchart {\n",
              "      --bg-color: #E8F0FE;\n",
              "      --fill-color: #1967D2;\n",
              "      --hover-bg-color: #E2EBFA;\n",
              "      --hover-fill-color: #174EA6;\n",
              "      --disabled-fill-color: #AAA;\n",
              "      --disabled-bg-color: #DDD;\n",
              "  }\n",
              "\n",
              "  [theme=dark] .colab-df-quickchart {\n",
              "      --bg-color: #3B4455;\n",
              "      --fill-color: #D2E3FC;\n",
              "      --hover-bg-color: #434B5C;\n",
              "      --hover-fill-color: #FFFFFF;\n",
              "      --disabled-bg-color: #3B4455;\n",
              "      --disabled-fill-color: #666;\n",
              "  }\n",
              "\n",
              "  .colab-df-quickchart {\n",
              "    background-color: var(--bg-color);\n",
              "    border: none;\n",
              "    border-radius: 50%;\n",
              "    cursor: pointer;\n",
              "    display: none;\n",
              "    fill: var(--fill-color);\n",
              "    height: 32px;\n",
              "    padding: 0;\n",
              "    width: 32px;\n",
              "  }\n",
              "\n",
              "  .colab-df-quickchart:hover {\n",
              "    background-color: var(--hover-bg-color);\n",
              "    box-shadow: 0 1px 2px rgba(60, 64, 67, 0.3), 0 1px 3px 1px rgba(60, 64, 67, 0.15);\n",
              "    fill: var(--button-hover-fill-color);\n",
              "  }\n",
              "\n",
              "  .colab-df-quickchart-complete:disabled,\n",
              "  .colab-df-quickchart-complete:disabled:hover {\n",
              "    background-color: var(--disabled-bg-color);\n",
              "    fill: var(--disabled-fill-color);\n",
              "    box-shadow: none;\n",
              "  }\n",
              "\n",
              "  .colab-df-spinner {\n",
              "    border: 2px solid var(--fill-color);\n",
              "    border-color: transparent;\n",
              "    border-bottom-color: var(--fill-color);\n",
              "    animation:\n",
              "      spin 1s steps(1) infinite;\n",
              "  }\n",
              "\n",
              "  @keyframes spin {\n",
              "    0% {\n",
              "      border-color: transparent;\n",
              "      border-bottom-color: var(--fill-color);\n",
              "      border-left-color: var(--fill-color);\n",
              "    }\n",
              "    20% {\n",
              "      border-color: transparent;\n",
              "      border-left-color: var(--fill-color);\n",
              "      border-top-color: var(--fill-color);\n",
              "    }\n",
              "    30% {\n",
              "      border-color: transparent;\n",
              "      border-left-color: var(--fill-color);\n",
              "      border-top-color: var(--fill-color);\n",
              "      border-right-color: var(--fill-color);\n",
              "    }\n",
              "    40% {\n",
              "      border-color: transparent;\n",
              "      border-right-color: var(--fill-color);\n",
              "      border-top-color: var(--fill-color);\n",
              "    }\n",
              "    60% {\n",
              "      border-color: transparent;\n",
              "      border-right-color: var(--fill-color);\n",
              "    }\n",
              "    80% {\n",
              "      border-color: transparent;\n",
              "      border-right-color: var(--fill-color);\n",
              "      border-bottom-color: var(--fill-color);\n",
              "    }\n",
              "    90% {\n",
              "      border-color: transparent;\n",
              "      border-bottom-color: var(--fill-color);\n",
              "    }\n",
              "  }\n",
              "</style>\n",
              "\n",
              "  <script>\n",
              "    async function quickchart(key) {\n",
              "      const quickchartButtonEl =\n",
              "        document.querySelector('#' + key + ' button');\n",
              "      quickchartButtonEl.disabled = true;  // To prevent multiple clicks.\n",
              "      quickchartButtonEl.classList.add('colab-df-spinner');\n",
              "      try {\n",
              "        const charts = await google.colab.kernel.invokeFunction(\n",
              "            'suggestCharts', [key], {});\n",
              "      } catch (error) {\n",
              "        console.error('Error during call to suggestCharts:', error);\n",
              "      }\n",
              "      quickchartButtonEl.classList.remove('colab-df-spinner');\n",
              "      quickchartButtonEl.classList.add('colab-df-quickchart-complete');\n",
              "    }\n",
              "    (() => {\n",
              "      let quickchartButtonEl =\n",
              "        document.querySelector('#df-b57cdfcc-2d50-4e06-95a9-61f9ac362e23 button');\n",
              "      quickchartButtonEl.style.display =\n",
              "        google.colab.kernel.accessAllowed ? 'block' : 'none';\n",
              "    })();\n",
              "  </script>\n",
              "</div>\n",
              "    </div>\n",
              "  </div>\n"
            ],
            "text/plain": [
              "                China\n",
              "Date                 \n",
              "2017-01-03  53.040001\n",
              "2017-01-04  53.720001\n",
              "2017-01-05  53.689999\n",
              "2017-01-06  54.490002\n",
              "2017-01-09  54.180000"
            ]
          },
          "execution_count": 4,
          "metadata": {},
          "output_type": "execute_result"
        }
      ],
      "source": [
        "df_emission.head()"
      ]
    },
    {
      "cell_type": "code",
      "execution_count": 5,
      "metadata": {
        "colab": {
          "base_uri": "https://localhost:8080/",
          "height": 733
        },
        "id": "Y70UG0_xmXG4",
        "outputId": "fe6c82b3-bf95-4898-d28c-db6415ce6933"
      },
      "outputs": [
        {
          "data": {
            "image/png": "[encoded data removed]",
            "text/plain": [
              "<Figure size 1600x800 with 1 Axes>"
            ]
          },
          "metadata": {},
          "output_type": "display_data"
        }
      ],
      "source": [
        "plt.figure(figsize=(16,8))\n",
        "plt.plot(df_emission)\n",
        "plt.title('Daily Emission ',fontsize=18)\n",
        "plt.xlabel('Year',fontsize=18)\n",
        "plt.ylabel('CO2e(T)',fontsize=18)\n",
        "plt.show()\n"
      ]
    },
    {
      "cell_type": "code",
      "execution_count": 6,
      "metadata": {
        "colab": {
          "base_uri": "https://localhost:8080/"
        },
        "id": "t1jwAgH0Db-T",
        "outputId": "9e244466-cfd0-4e76-ab83-bbf7bda276dd"
      },
      "outputs": [
        {
          "data": {
            "text/plain": [
              "array([[53.04000092],\n",
              "       [53.72000122],\n",
              "       [53.68999863],\n",
              "       [54.49000168],\n",
              "       [54.18000031],\n",
              "       [54.18999863],\n",
              "       [54.72000122],\n",
              "       [53.76499939],\n",
              "       [54.02999878],\n",
              "       [53.98500061],\n",
              "       [54.08000183],\n",
              "       [53.63999939],\n",
              "       [53.83000183],\n",
              "       [53.56000137],\n",
              "       [53.95000076],\n",
              "       [54.02000046],\n",
              "       [54.02999878],\n",
              "       [54.65000153],\n",
              "       [55.47000122],\n",
              "       [55.32500076],\n",
              "       [55.65000153],\n",
              "       [55.30500031],\n",
              "       [55.15000153],\n",
              "       [54.78499985],\n",
              "       [54.5       ],\n",
              "       [54.5       ],\n",
              "       [54.74499893],\n",
              "       [54.63000107],\n",
              "       [54.82500076],\n",
              "       [55.16500092],\n",
              "       [55.09000015],\n",
              "       [55.35499954],\n",
              "       [55.02999878],\n",
              "       [55.00500107],\n",
              "       [55.06000137],\n",
              "       [54.86500168],\n",
              "       [55.15999985],\n",
              "       [55.11500168],\n",
              "       [55.04499817],\n",
              "       [55.52000046],\n",
              "       [55.29499817],\n",
              "       [55.61999893],\n",
              "       [55.33499908],\n",
              "       [55.43000031],\n",
              "       [55.41999817],\n",
              "       [55.51499939],\n",
              "       [55.45999908],\n",
              "       [55.75999832],\n",
              "       [56.15499878],\n",
              "       [55.93500137],\n",
              "       [55.85499954],\n",
              "       [55.88000107],\n",
              "       [56.35499954],\n",
              "       [55.875     ],\n",
              "       [56.04000092],\n",
              "       [56.11999893],\n",
              "       [56.06999969],\n",
              "       [56.18999863],\n",
              "       [56.52500153],\n",
              "       [56.26499939],\n",
              "       [56.59000015],\n",
              "       [56.69499969],\n",
              "       [56.59999847],\n",
              "       [56.52000046],\n",
              "       [56.5       ],\n",
              "       [56.52500153],\n",
              "       [56.29000092],\n",
              "       [56.21500015],\n",
              "       [56.53499985],\n",
              "       [56.52000046],\n",
              "       [56.59999847],\n",
              "       [56.88999939],\n",
              "       [57.09500122],\n",
              "       [56.86500168],\n",
              "       [57.39500046],\n",
              "       [57.22000122],\n",
              "       [56.84999847],\n",
              "       [57.59000015],\n",
              "       [57.79000092],\n",
              "       [57.91999817],\n",
              "       [57.79999924],\n",
              "       [57.36500168],\n",
              "       [57.18500137],\n",
              "       [55.81000137],\n",
              "       [55.58499908],\n",
              "       [55.99499893],\n",
              "       [55.70999908],\n",
              "       [56.03499985],\n",
              "       [54.83000183],\n",
              "       [54.79000092],\n",
              "       [54.84500122],\n",
              "       [54.56499863],\n",
              "       [53.99000168],\n",
              "       [53.15499878],\n",
              "       [53.34000015],\n",
              "       [53.75999832],\n",
              "       [53.81499863],\n",
              "       [53.50999832],\n",
              "       [53.85499954],\n",
              "       [53.63499832],\n",
              "       [54.20500183],\n",
              "       [54.16999817],\n",
              "       [53.97000122],\n",
              "       [54.10499954],\n",
              "       [53.59000015],\n",
              "       [53.25999832],\n",
              "       [52.75      ],\n",
              "       [52.95999908],\n",
              "       [52.15999985],\n",
              "       [52.81000137],\n",
              "       [53.52000046],\n",
              "       [53.27999878],\n",
              "       [53.06999969],\n",
              "       [52.99000168],\n",
              "       [52.75500107],\n",
              "       [52.68500137],\n",
              "       [51.97000122],\n",
              "       [52.40000153],\n",
              "       [52.11000061],\n",
              "       [52.18000031],\n",
              "       [52.78499985],\n",
              "       [52.70500183],\n",
              "       [53.43000031],\n",
              "       [52.85499954],\n",
              "       [53.125     ],\n",
              "       [53.72999954],\n",
              "       [52.81499863],\n",
              "       [51.67499924],\n",
              "       [51.65999985],\n",
              "       [51.79499817],\n",
              "       [51.91999817],\n",
              "       [52.18999863],\n",
              "       [52.14500046],\n",
              "       [52.54499817],\n",
              "       [52.39500046],\n",
              "       [52.875     ],\n",
              "       [53.40999985],\n",
              "       [53.68000031],\n",
              "       [53.54499817],\n",
              "       [53.5       ],\n",
              "       [53.20999908],\n",
              "       [53.47000122],\n",
              "       [55.        ],\n",
              "       [54.97999954],\n",
              "       [54.96500015],\n",
              "       [55.30500031],\n",
              "       [54.33499908],\n",
              "       [54.56000137],\n",
              "       [53.84500122],\n",
              "       [53.17499924],\n",
              "       [53.49000168],\n",
              "       [51.41500092],\n",
              "       [50.67499924],\n",
              "       [50.99499893],\n",
              "       [50.70000076],\n",
              "       [50.75500107],\n",
              "       [51.09999847],\n",
              "       [50.68999863],\n",
              "       [50.34999847],\n",
              "       [50.58499908],\n",
              "       [51.38499832],\n",
              "       [50.75      ],\n",
              "       [50.75999832],\n",
              "       [51.20500183],\n",
              "       [51.27999878],\n",
              "       [51.28499985],\n",
              "       [51.43500137],\n",
              "       [50.59999847],\n",
              "       [50.75      ],\n",
              "       [50.79999924],\n",
              "       [50.75      ],\n",
              "       [48.52999878],\n",
              "       [48.53499985],\n",
              "       [48.54499817],\n",
              "       [48.94499969],\n",
              "       [49.40999985],\n",
              "       [48.95000076],\n",
              "       [49.25999832],\n",
              "       [49.04999924],\n",
              "       [49.21500015],\n",
              "       [49.60499954],\n",
              "       [49.44499969],\n",
              "       [49.29999924],\n",
              "       [49.78499985],\n",
              "       [49.31499863],\n",
              "       [49.61999893],\n",
              "       [49.02500153],\n",
              "       [49.28499985],\n",
              "       [49.93000031],\n",
              "       [50.39500046],\n",
              "       [50.27500153],\n",
              "       [50.05500031],\n",
              "       [50.03499985],\n",
              "       [49.78499985],\n",
              "       [49.79000092],\n",
              "       [49.27500153],\n",
              "       [48.46500015],\n",
              "       [48.68999863],\n",
              "       [49.06499863],\n",
              "       [49.18000031],\n",
              "       [49.125     ],\n",
              "       [49.50500107],\n",
              "       [49.70000076],\n",
              "       [49.34999847],\n",
              "       [49.14500046],\n",
              "       [48.90000153],\n",
              "       [49.27999878],\n",
              "       [49.15499878],\n",
              "       [49.02000046],\n",
              "       [48.90499878],\n",
              "       [49.51499939],\n",
              "       [49.17499924],\n",
              "       [49.31999969],\n",
              "       [50.31999969],\n",
              "       [50.80500031],\n",
              "       [50.59000015],\n",
              "       [51.34000015],\n",
              "       [52.38999939],\n",
              "       [52.36999893],\n",
              "       [51.58499908],\n",
              "       [51.84500122],\n",
              "       [51.79999924],\n",
              "       [51.72000122],\n",
              "       [51.375     ],\n",
              "       [51.5       ],\n",
              "       [51.36999893],\n",
              "       [51.31999969],\n",
              "       [51.39500046],\n",
              "       [51.70500183],\n",
              "       [52.61999893],\n",
              "       [52.40999985],\n",
              "       [52.625     ],\n",
              "       [55.11000061],\n",
              "       [53.61000061],\n",
              "       [52.72999954],\n",
              "       [52.63000107],\n",
              "       [52.11500168],\n",
              "       [53.41500092],\n",
              "       [53.71500015],\n",
              "       [53.80500031],\n",
              "       [55.28499985],\n",
              "       [55.63499832],\n",
              "       [55.51499939],\n",
              "       [55.90499878],\n",
              "       [54.84500122],\n",
              "       [54.78499985],\n",
              "       [54.33499908],\n",
              "       [54.06000137],\n",
              "       [53.81999969],\n",
              "       [53.88499832],\n",
              "       [53.75500107],\n",
              "       [55.90000153],\n",
              "       [56.13999939],\n",
              "       [56.11500168],\n",
              "       [55.81000137],\n",
              "       [55.00999832],\n",
              "       [54.97000122],\n",
              "       [54.73500061],\n",
              "       [55.49499893],\n",
              "       [56.23500061],\n",
              "       [55.34500122],\n",
              "       [55.98500061],\n",
              "       [55.20999908],\n",
              "       [55.29499817],\n",
              "       [55.54999924],\n",
              "       [55.20500183],\n",
              "       [55.25      ],\n",
              "       [55.27500153],\n",
              "       [56.09500122],\n",
              "       [55.77000046],\n",
              "       [55.05500031],\n",
              "       [54.33499908],\n",
              "       [55.24499893],\n",
              "       [54.34999847],\n",
              "       [52.34999847],\n",
              "       [53.08499908],\n",
              "       [52.38000107],\n",
              "       [50.67499924],\n",
              "       [51.54499817],\n",
              "       [51.69499969],\n",
              "       [52.06000137],\n",
              "       [52.29999924],\n",
              "       [52.59000015],\n",
              "       [53.26499939],\n",
              "       [52.99000168],\n",
              "       [52.52500153],\n",
              "       [52.61999893],\n",
              "       [53.625     ],\n",
              "       [54.90499878],\n",
              "       [52.43500137],\n",
              "       [51.58000183],\n",
              "       [51.28499985],\n",
              "       [51.49499893],\n",
              "       [51.70500183],\n",
              "       [52.47000122],\n",
              "       [51.79499817],\n",
              "       [52.01499939],\n",
              "       [52.36500168],\n",
              "       [52.58499908],\n",
              "       [51.86500168],\n",
              "       [51.95000076],\n",
              "       [51.61999893],\n",
              "       [51.43500137],\n",
              "       [50.74000168],\n",
              "       [50.67499924],\n",
              "       [50.90999985],\n",
              "       [50.29999924],\n",
              "       [49.27000046],\n",
              "       [50.32500076],\n",
              "       [49.68000031],\n",
              "       [49.27000046],\n",
              "       [50.22000122],\n",
              "       [49.33000183],\n",
              "       [49.70999908],\n",
              "       [50.47499847],\n",
              "       [51.05500031],\n",
              "       [50.17499924],\n",
              "       [49.84999847],\n",
              "       [50.68500137],\n",
              "       [50.40000153],\n",
              "       [50.19499969],\n",
              "       [50.17499924],\n",
              "       [50.11999893],\n",
              "       [51.08499908],\n",
              "       [50.60499954],\n",
              "       [50.44499969],\n",
              "       [50.11999893],\n",
              "       [50.07500076],\n",
              "       [49.72999954],\n",
              "       [50.57500076],\n",
              "       [49.91999817],\n",
              "       [49.61500168],\n",
              "       [50.16500092],\n",
              "       [50.02999878],\n",
              "       [49.81000137],\n",
              "       [49.38000107],\n",
              "       [50.57500076],\n",
              "       [51.24000168],\n",
              "       [50.89500046],\n",
              "       [49.98500061],\n",
              "       [50.84000015],\n",
              "       [51.03499985],\n",
              "       [51.22000122],\n",
              "       [51.45999908],\n",
              "       [52.52000046],\n",
              "       [52.16999817],\n",
              "       [51.96500015],\n",
              "       [52.02999878],\n",
              "       [52.03499985],\n",
              "       [51.44499969],\n",
              "       [51.05500031],\n",
              "       [51.09999847],\n",
              "       [49.84500122],\n",
              "       [49.99000168],\n",
              "       [49.73500061],\n",
              "       [49.68000031],\n",
              "       [50.11999893],\n",
              "       [49.97000122],\n",
              "       [50.95500183],\n",
              "       [51.23500061],\n",
              "       [51.99000168],\n",
              "       [52.17499924],\n",
              "       [52.16500092],\n",
              "       [53.15499878],\n",
              "       [54.375     ],\n",
              "       [54.42499924],\n",
              "       [53.52999878],\n",
              "       [53.04999924],\n",
              "       [53.57500076],\n",
              "       [52.94499969],\n",
              "       [53.16999817],\n",
              "       [52.22499847],\n",
              "       [52.13000107],\n",
              "       [51.97999954],\n",
              "       [52.38499832],\n",
              "       [52.40499878],\n",
              "       [52.66500092],\n",
              "       [52.02000046],\n",
              "       [52.66999817],\n",
              "       [52.38999939],\n",
              "       [53.00999832],\n",
              "       [53.01499939],\n",
              "       [54.02000046],\n",
              "       [54.125     ],\n",
              "       [55.        ],\n",
              "       [55.09999847],\n",
              "       [55.15000153],\n",
              "       [55.34500122],\n",
              "       [56.06499863]])"
            ]
          },
          "execution_count": 6,
          "metadata": {},
          "output_type": "execute_result"
        }
      ],
      "source": [
        "df_emission.values"
      ]
    },
    {
      "cell_type": "code",
      "execution_count": 7,
      "metadata": {
        "id": "TmAWsQq6n__6"
      },
      "outputs": [],
      "source": [
        "data_set=df_emission.values\n",
        "demand_correlation=3.7\n",
        "training_data_len = math.ceil(len(data_set)*0.8)\n",
        "training_data_len\n",
        "\n",
        "scaler = MinMaxScaler(feature_range=(0,1))\n",
        "scaled_data = scaler.fit_transform(data_set)\n",
        "\n",
        "training_data = scaled_data[:training_data_len,:]\n",
        "x_train = []\n",
        "y_train = []\n",
        "\n",
        "for i in range(60,len(training_data)):\n",
        "  x_train.append(training_data[i-60:i,0])\n",
        "  y_train.append(training_data[i,0])\n",
        "\n",
        "x_train,y_train=np.array(x_train),np.array(y_train)\n",
        "\n",
        "x_train = np.reshape(x_train,(x_train.shape[0],x_train.shape[1],1))\n"
      ]
    },
    {
      "cell_type": "code",
      "execution_count": 8,
      "metadata": {
        "id": "sKHtQXq6sarM"
      },
      "outputs": [],
      "source": [
        "#Build Model\n",
        "\n",
        "model=Sequential()\n",
        "model.add(LSTM(50,return_sequences=True,input_shape=(x_train.shape[1],1)))\n",
        "model.add(LSTM(50,return_sequences=False))\n",
        "model.add(Dense(25,activation='relu'))\n",
        "model.add(Dense(1))\n",
        "model.compile(optimizer='adam',\n",
        "              loss='mse')"
      ]
    },
    {
      "cell_type": "code",
      "execution_count": 9,
      "metadata": {
        "colab": {
          "base_uri": "https://localhost:8080/"
        },
        "id": "Oduo6_fouEp9",
        "outputId": "811f7b03-b837-4aa3-9b8e-a2654d341236"
      },
      "outputs": [
        {
          "name": "stdout",
          "output_type": "stream",
          "text": [
            "Epoch 1/6\n",
            "252/252 [==============================] - 19s 61ms/step - loss: 0.0192\n",
            "Epoch 2/6\n",
            "252/252 [==============================] - 21s 83ms/step - loss: 0.0127\n",
            "Epoch 3/6\n",
            "252/252 [==============================] - 14s 54ms/step - loss: 0.0105\n",
            "Epoch 4/6\n",
            "252/252 [==============================] - 9s 35ms/step - loss: 0.0090\n",
            "Epoch 5/6\n",
            "252/252 [==============================] - 7s 28ms/step - loss: 0.0071\n",
            "Epoch 6/6\n",
            "252/252 [==============================] - 9s 34ms/step - loss: 0.0062\n"
          ]
        },
        {
          "data": {
            "text/plain": [
              "<keras.src.callbacks.History at 0x782154951180>"
            ]
          },
          "execution_count": 9,
          "metadata": {},
          "output_type": "execute_result"
        }
      ],
      "source": [
        "#train model\n",
        "\n",
        "model.fit(x_train,y_train,epochs=6,batch_size=1)"
      ]
    },
    {
      "cell_type": "code",
      "execution_count": 10,
      "metadata": {
        "colab": {
          "base_uri": "https://localhost:8080/"
        },
        "id": "O8Vpjjr3uVno",
        "outputId": "f118363f-7331-4145-cf72-d575952f475d"
      },
      "outputs": [
        {
          "data": {
            "text/plain": [
              "(77, 60, 1)"
            ]
          },
          "execution_count": 10,
          "metadata": {},
          "output_type": "execute_result"
        }
      ],
      "source": [
        "#generate test data\n",
        "\n",
        "test_data = scaled_data[training_data_len-60:,:]\n",
        "\n",
        "x_test=[]\n",
        "y_test=scaled_data[training_data_len:,:]\n",
        "for i in range(60,len(test_data)):\n",
        "  x_test.append(test_data[i-60:i,0])\n",
        "\n",
        "x_test = np.array(x_test)\n",
        "x_test = np.reshape(x_test,(x_test.shape[0],x_test.shape[1],1))\n",
        "x_test.shape"
      ]
    },
    {
      "cell_type": "code",
      "execution_count": 11,
      "metadata": {
        "colab": {
          "base_uri": "https://localhost:8080/"
        },
        "id": "Cw5O1EFBxLAx",
        "outputId": "baedb5f3-9525-461a-fa92-279336a16582"
      },
      "outputs": [
        {
          "name": "stdout",
          "output_type": "stream",
          "text": [
            "3/3 [==============================] - 1s 16ms/step\n"
          ]
        },
        {
          "data": {
            "text/plain": [
              "51.57921731355945"
            ]
          },
          "execution_count": 11,
          "metadata": {},
          "output_type": "execute_result"
        }
      ],
      "source": [
        "#predictions\n",
        "predictions = model.predict(x_test)\n",
        "predictions = scaler.inverse_transform(predictions)\n",
        "\n",
        "rmse = np.sqrt(np.mean(y_test-predictions)**2)\n",
        "rmse\n"
      ]
    },
    {
      "cell_type": "code",
      "execution_count": 12,
      "metadata": {
        "colab": {
          "base_uri": "https://localhost:8080/",
          "height": 814
        },
        "id": "mzZKznzky-3Q",
        "outputId": "f8ab2c64-2262-4d92-ee8c-e63ed70be1ae"
      },
      "outputs": [
        {
          "name": "stderr",
          "output_type": "stream",
          "text": [
            "<ipython-input-12-f9f7af0319fb>:3: SettingWithCopyWarning: \n",
            "A value is trying to be set on a copy of a slice from a DataFrame.\n",
            "Try using .loc[row_indexer,col_indexer] = value instead\n",
            "\n",
            "See the caveats in the documentation: https://pandas.pydata.org/pandas-docs/stable/user_guide/indexing.html#returning-a-view-versus-a-copy\n",
            "  valid['Predictions'] = predictions\n"
          ]
        },
        {
          "data": {
            "text/plain": [
              "[<matplotlib.lines.Line2D at 0x78214dae9a20>,\n",
              " <matplotlib.lines.Line2D at 0x78214dae9a50>]"
            ]
          },
          "execution_count": 12,
          "metadata": {},
          "output_type": "execute_result"
        },
        {
          "data": {
            "image/png": "[encoded data removed]",
            "text/plain": [
              "<Figure size 1600x800 with 1 Axes>"
            ]
          },
          "metadata": {},
          "output_type": "display_data"
        }
      ],
      "source": [
        "trainig = df_emission[:training_data_len]\n",
        "valid = df_emission[training_data_len:]\n",
        "valid['Predictions'] = predictions\n",
        "\n",
        "plt.figure(figsize=(16,8))\n",
        "plt.title('Emissions - Predition & Reality')\n",
        "plt.xlabel('Year')\n",
        "plt.ylabel('CO2e(T)')\n",
        "plt.plot(trainig['China'], c='r')\n",
        "plt.axis('off')\n",
        "plt.plot(valid[['China','Predictions']])"
      ]
    },
    {
      "cell_type": "markdown",
      "metadata": {
        "id": "i-PRA1bjMqyX"
      },
      "source": [
        "### Installing IBM Dependencies\n",
        "\n"
      ]
    },
    {
      "cell_type": "code",
      "execution_count": null,
      "metadata": {
        "colab": {
          "base_uri": "https://localhost:8080/",
          "height": 689
        },
        "id": "VxM5LMfZM-mU",
        "outputId": "a1c90017-a22d-4d9d-85b2-9ed3445ca707"
      },
      "outputs": [
        {
          "name": "stdout",
          "output_type": "stream",
          "text": [
            "Requirement already satisfied: ibm-watson-machine-learning in /usr/local/lib/python3.10/dist-packages (1.0.327)\n",
            "Requirement already satisfied: requests in /usr/local/lib/python3.10/dist-packages (from ibm-watson-machine-learning) (2.31.0)\n",
            "Requirement already satisfied: urllib3 in /usr/local/lib/python3.10/dist-packages (from ibm-watson-machine-learning) (1.26.18)\n",
            "Collecting pandas<1.6.0,>=0.24.2 (from ibm-watson-machine-learning)\n",
            "  Using cached pandas-1.5.3-cp310-cp310-manylinux_2_17_x86_64.manylinux2014_x86_64.whl (12.1 MB)\n",
            "Requirement already satisfied: certifi in /usr/local/lib/python3.10/dist-packages (from ibm-watson-machine-learning) (2023.7.22)\n",
            "Requirement already satisfied: lomond in /usr/local/lib/python3.10/dist-packages (from ibm-watson-machine-learning) (0.3.3)\n",
            "Requirement already satisfied: tabulate in /usr/local/lib/python3.10/dist-packages (from ibm-watson-machine-learning) (0.9.0)\n",
            "Requirement already satisfied: packaging in /usr/local/lib/python3.10/dist-packages (from ibm-watson-machine-learning) (23.2)\n",
            "Requirement already satisfied: importlib-metadata in /usr/local/lib/python3.10/dist-packages (from ibm-watson-machine-learning) (6.8.0)\n",
            "Requirement already satisfied: ibm-cos-sdk<2.14.0,>=2.12.0 in /usr/local/lib/python3.10/dist-packages (from ibm-watson-machine-learning) (2.13.2)\n",
            "Requirement already satisfied: ibm-cos-sdk-core==2.13.2 in /usr/local/lib/python3.10/dist-packages (from ibm-cos-sdk<2.14.0,>=2.12.0->ibm-watson-machine-learning) (2.13.2)\n",
            "Requirement already satisfied: ibm-cos-sdk-s3transfer==2.13.2 in /usr/local/lib/python3.10/dist-packages (from ibm-cos-sdk<2.14.0,>=2.12.0->ibm-watson-machine-learning) (2.13.2)\n",
            "Requirement already satisfied: jmespath<=1.0.1,>=0.10.0 in /usr/local/lib/python3.10/dist-packages (from ibm-cos-sdk<2.14.0,>=2.12.0->ibm-watson-machine-learning) (1.0.1)\n",
            "Requirement already satisfied: python-dateutil<3.0.0,>=2.8.2 in /usr/local/lib/python3.10/dist-packages (from ibm-cos-sdk-core==2.13.2->ibm-cos-sdk<2.14.0,>=2.12.0->ibm-watson-machine-learning) (2.8.2)\n",
            "Requirement already satisfied: pytz>=2020.1 in /usr/local/lib/python3.10/dist-packages (from pandas<1.6.0,>=0.24.2->ibm-watson-machine-learning) (2023.3.post1)\n",
            "Requirement already satisfied: numpy>=1.21.0 in /usr/local/lib/python3.10/dist-packages (from pandas<1.6.0,>=0.24.2->ibm-watson-machine-learning) (1.23.5)\n",
            "Requirement already satisfied: charset-normalizer<4,>=2 in /usr/local/lib/python3.10/dist-packages (from requests->ibm-watson-machine-learning) (3.3.0)\n",
            "Requirement already satisfied: idna<4,>=2.5 in /usr/local/lib/python3.10/dist-packages (from requests->ibm-watson-machine-learning) (3.4)\n",
            "Requirement already satisfied: zipp>=0.5 in /usr/local/lib/python3.10/dist-packages (from importlib-metadata->ibm-watson-machine-learning) (3.17.0)\n",
            "Requirement already satisfied: six>=1.10.0 in /usr/local/lib/python3.10/dist-packages (from lomond->ibm-watson-machine-learning) (1.16.0)\n",
            "Installing collected packages: pandas\n",
            "  Attempting uninstall: pandas\n",
            "    Found existing installation: pandas 2.1.1\n",
            "    Uninstalling pandas-2.1.1:\n",
            "      Successfully uninstalled pandas-2.1.1\n",
            "\u001b[31mERROR: pip's dependency resolver does not currently take into account all the packages that are installed. This behaviour is the source of the following dependency conflicts.\n",
            "lida 0.0.10 requires fastapi, which is not installed.\n",
            "lida 0.0.10 requires kaleido, which is not installed.\n",
            "lida 0.0.10 requires python-multipart, which is not installed.\n",
            "lida 0.0.10 requires uvicorn, which is not installed.\u001b[0m\u001b[31m\n",
            "\u001b[0mSuccessfully installed pandas-1.5.3\n"
          ]
        },
        {
          "data": {
            "application/vnd.colab-display-data+json": {
              "pip_warning": {
                "packages": [
                  "pandas"
                ]
              }
            }
          },
          "metadata": {},
          "output_type": "display_data"
        }
      ],
      "source": [
        "!pip install -U ibm-watson-machine-learning"
      ]
    },
    {
      "cell_type": "code",
      "execution_count": null,
      "metadata": {
        "id": "AQsTDYVtNbrh"
      },
      "outputs": [],
      "source": [
        "from ibm_watson_machine_learning import APIClient\n",
        "import json\n",
        "import numpy as np"
      ]
    },
    {
      "cell_type": "markdown",
      "metadata": {
        "id": "DBn8ko52MxEP"
      },
      "source": [
        "### Authentication"
      ]
    },
    {
      "cell_type": "code",
      "execution_count": null,
      "metadata": {
        "id": "YEtNw98pM_Hr"
      },
      "outputs": [],
      "source": [
        "wml_credentials = {\n",
        "    \"apikey\":\"\",\n",
        "    \"url\":\"\"\n",
        "}"
      ]
    },
    {
      "cell_type": "code",
      "execution_count": null,
      "metadata": {
        "id": "iVA_2SgoOiwp"
      },
      "outputs": [],
      "source": [
        "wml_client = APIClient(wml_credentials)\n",
        "wml_client.spaces.list()"
      ]
    },
    {
      "cell_type": "code",
      "execution_count": null,
      "metadata": {
        "id": "0n8RVitAOi_o"
      },
      "outputs": [],
      "source": [
        "SPACE_ID=\"SPACEID\""
      ]
    },
    {
      "cell_type": "code",
      "execution_count": null,
      "metadata": {
        "id": "sduJsX2JOlKE"
      },
      "outputs": [],
      "source": [
        "wml_client.set.default_space(SPACE_ID)"
      ]
    },
    {
      "cell_type": "markdown",
      "metadata": {
        "id": "q1hoB3peM1p8"
      },
      "source": [
        "###Save + deploy"
      ]
    },
    {
      "cell_type": "code",
      "execution_count": null,
      "metadata": {
        "id": "qKqK_gOBNABA"
      },
      "outputs": [],
      "source": [
        "MODEL_NAME = 'LSTM Forcast'\n",
        "DEPLOYMENT_NAME = 'LSTM Deployment'\n",
        "BEST_MODEL = model\n"
      ]
    },
    {
      "cell_type": "code",
      "execution_count": null,
      "metadata": {
        "colab": {
          "base_uri": "https://localhost:8080/"
        },
        "id": "mvj5R1yqTJFx",
        "outputId": "c3245fd0-775b-4850-b623-680fbc0b4c3c"
      },
      "outputs": [
        {
          "name": "stdout",
          "output_type": "stream",
          "text": [
            "Name: tensorflow\n",
            "Version: 2.13.0\n",
            "Summary: TensorFlow is an open source machine learning framework for everyone.\n",
            "Home-page: https://www.tensorflow.org/\n",
            "Author: Google Inc.\n",
            "Author-email: packages@tensorflow.org\n",
            "License: Apache 2.0\n",
            "Location: /usr/local/lib/python3.10/dist-packages\n",
            "Requires: absl-py, astunparse, flatbuffers, gast, google-pasta, grpcio, h5py, keras, libclang, numpy, opt-einsum, packaging, protobuf, setuptools, six, tensorboard, tensorflow-estimator, tensorflow-io-gcs-filesystem, termcolor, typing-extensions, wrapt\n",
            "Required-by: dopamine-rl\n"
          ]
        }
      ],
      "source": [
        "pip show tensorflow"
      ]
    },
    {
      "cell_type": "code",
      "execution_count": null,
      "metadata": {
        "id": "3gMqurA_S1M-"
      },
      "outputs": [],
      "source": [
        "# Set Python Version\n",
        "software_spec_uid = wml_client.software_specifications.get_id_by_name('default_py3.7')\n",
        "\n",
        "# Setup model meta\n",
        "model_props = {\n",
        "    wml_client.repository.ModelMetaNames.NAME: MODEL_NAME,\n",
        "    wml_client.repository.ModelMetaNames.TYPE: 'tensorflow_2.13',\n",
        "    wml_client.repository.ModelMetaNames.SOFTWARE_SPEC_UID: software_spec_uid\n",
        "}\n",
        "\n",
        "#Save model\n",
        "model_details = wml_client.repository.store_model(\n",
        "    model=BEST_MODEL,\n",
        "    meta_props=model_props,\n",
        "    training_data=X_train.head(),\n",
        "    training_target=y_train.head()\n",
        ")\n"
      ]
    },
    {
      "cell_type": "code",
      "execution_count": null,
      "metadata": {
        "id": "mvQ_uk64Tjxl"
      },
      "outputs": [],
      "source": [
        "model_uid = wml_client.repository.get_model_uid(model_details);\n",
        "model_uid"
      ]
    },
    {
      "cell_type": "code",
      "execution_count": null,
      "metadata": {
        "id": "O2QHMIeDTlmf"
      },
      "outputs": [],
      "source": [
        "# Set meta\n",
        "deployment_props = {\n",
        "    wml_client.deployments.ConfigurationMetaNames.NAME:DEPLOYMENT_NAME,\n",
        "    wml_client.deployments.ConfigurationMetaNames.ONLINE: {}\n",
        "}\n",
        "\n",
        "# Deploy\n",
        "deployment = wml_client.deployments.create(\n",
        "    artifact_uid=model_uid,\n",
        "    meta_props=deployment_props\n",
        ")\n",
        "\n",
        "# Output result\n",
        "deployment"
      ]
    }
  ],
  "metadata": {
    "colab": {
      "provenance": []
    },
    "kernelspec": {
      "display_name": "Python 3",
      "name": "python3"
    }
  },
  "nbformat": 4,
  "nbformat_minor": 0
}
